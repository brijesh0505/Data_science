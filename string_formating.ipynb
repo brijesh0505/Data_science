{
 "cells": [
  {
   "cell_type": "code",
   "execution_count": 4,
   "id": "362e465c",
   "metadata": {},
   "outputs": [
    {
     "data": {
      "text/plain": [
       "'Hello brijesh welcome to my land your age is 29'"
      ]
     },
     "execution_count": 4,
     "metadata": {},
     "output_type": "execute_result"
    }
   ],
   "source": [
    "def abc(name,age):\n",
    "    return 'Hello {} welcome to my land your age is {}'.format(name,age)\n",
    "abc('brijesh',29)"
   ]
  }
 ],
 "metadata": {
  "kernelspec": {
   "display_name": "Python 3 (ipykernel)",
   "language": "python",
   "name": "python3"
  },
  "language_info": {
   "codemirror_mode": {
    "name": "ipython",
    "version": 3
   },
   "file_extension": ".py",
   "mimetype": "text/x-python",
   "name": "python",
   "nbconvert_exporter": "python",
   "pygments_lexer": "ipython3",
   "version": "3.9.7"
  }
 },
 "nbformat": 4,
 "nbformat_minor": 5
}
