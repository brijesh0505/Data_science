{
 "cells": [
  {
   "cell_type": "markdown",
   "id": "b67b2907",
   "metadata": {},
   "source": [
    "# python basic\n"
   ]
  },
  {
   "cell_type": "code",
   "execution_count": 1,
   "id": "96ce5d95",
   "metadata": {},
   "outputs": [
    {
     "data": {
      "text/plain": [
       "100"
      ]
     },
     "execution_count": 1,
     "metadata": {},
     "output_type": "execute_result"
    }
   ],
   "source": [
    "10**2\n"
   ]
  },
  {
   "cell_type": "code",
   "execution_count": 2,
   "id": "6f356333",
   "metadata": {},
   "outputs": [
    {
     "data": {
      "text/plain": [
       "10000000000"
      ]
     },
     "execution_count": 2,
     "metadata": {},
     "output_type": "execute_result"
    }
   ],
   "source": [
    "10**10\n"
   ]
  },
  {
   "cell_type": "code",
   "execution_count": 2,
   "id": "0e16ebbd",
   "metadata": {},
   "outputs": [
    {
     "data": {
      "text/plain": [
       "1"
      ]
     },
     "execution_count": 2,
     "metadata": {},
     "output_type": "execute_result"
    }
   ],
   "source": [
    "10%3"
   ]
  },
  {
   "cell_type": "raw",
   "id": "29ed7a88",
   "metadata": {},
   "source": [
    "10 * 'str'"
   ]
  },
  {
   "cell_type": "code",
   "execution_count": 3,
   "id": "0ad9759f",
   "metadata": {},
   "outputs": [
    {
     "data": {
      "text/plain": [
       "int"
      ]
     },
     "execution_count": 3,
     "metadata": {},
     "output_type": "execute_result"
    }
   ],
   "source": [
    "type(10)"
   ]
  },
  {
   "cell_type": "code",
   "execution_count": null,
   "id": "f34bad24",
   "metadata": {},
   "outputs": [],
   "source": [
    "print('hello')"
   ]
  },
  {
   "cell_type": "code",
   "execution_count": 4,
   "id": "57dd77e3",
   "metadata": {},
   "outputs": [],
   "source": [
    "name='Brijesh'\n",
    "last_name='shukla'"
   ]
  },
  {
   "cell_type": "code",
   "execution_count": 5,
   "id": "3de73743",
   "metadata": {},
   "outputs": [
    {
     "name": "stdout",
     "output_type": "stream",
     "text": [
      "my name is Brijesh and my last name is shukla\n"
     ]
    }
   ],
   "source": [
    "print('my name is {} and my last name is {}' .format(name,last_name))"
   ]
  },
  {
   "cell_type": "code",
   "execution_count": 7,
   "id": "b5f1dc39",
   "metadata": {},
   "outputs": [
    {
     "data": {
      "text/plain": [
       "7"
      ]
     },
     "execution_count": 7,
     "metadata": {},
     "output_type": "execute_result"
    }
   ],
   "source": [
    "len('Brijesh')"
   ]
  }
 ],
 "metadata": {
  "kernelspec": {
   "display_name": "Python 3 (ipykernel)",
   "language": "python",
   "name": "python3"
  },
  "language_info": {
   "codemirror_mode": {
    "name": "ipython",
    "version": 3
   },
   "file_extension": ".py",
   "mimetype": "text/x-python",
   "name": "python",
   "nbconvert_exporter": "python",
   "pygments_lexer": "ipython3",
   "version": "3.9.7"
  }
 },
 "nbformat": 4,
 "nbformat_minor": 5
}
