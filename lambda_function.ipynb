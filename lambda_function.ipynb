{
 "cells": [
  {
   "cell_type": "markdown",
   "id": "4ac1c8cd",
   "metadata": {},
   "source": [
    "# lambda function\n",
    "anonymous function\n",
    "function without name"
   ]
  },
  {
   "cell_type": "code",
   "execution_count": 1,
   "id": "ca1531a3",
   "metadata": {},
   "outputs": [
    {
     "data": {
      "text/plain": [
       "11"
      ]
     },
     "execution_count": 1,
     "metadata": {},
     "output_type": "execute_result"
    }
   ],
   "source": [
    "def brij(a,b):\n",
    "    return a+b\n",
    "brij(5,6)"
   ]
  },
  {
   "cell_type": "code",
   "execution_count": 2,
   "id": "b83c3f7f",
   "metadata": {},
   "outputs": [
    {
     "data": {
      "text/plain": [
       "11"
      ]
     },
     "execution_count": 2,
     "metadata": {},
     "output_type": "execute_result"
    }
   ],
   "source": [
    "total=lambda a,b:a+b\n",
    "total(5,6)"
   ]
  },
  {
   "cell_type": "code",
   "execution_count": 4,
   "id": "046a10f1",
   "metadata": {},
   "outputs": [
    {
     "data": {
      "text/plain": [
       "True"
      ]
     },
     "execution_count": 4,
     "metadata": {},
     "output_type": "execute_result"
    }
   ],
   "source": [
    "def even(num):\n",
    "    if num%2==0:\n",
    "        return True\n",
    "even(500)"
   ]
  }
 ],
 "metadata": {
  "kernelspec": {
   "display_name": "Python 3 (ipykernel)",
   "language": "python",
   "name": "python3"
  },
  "language_info": {
   "codemirror_mode": {
    "name": "ipython",
    "version": 3
   },
   "file_extension": ".py",
   "mimetype": "text/x-python",
   "name": "python",
   "nbconvert_exporter": "python",
   "pygments_lexer": "ipython3",
   "version": "3.9.7"
  }
 },
 "nbformat": 4,
 "nbformat_minor": 5
}
