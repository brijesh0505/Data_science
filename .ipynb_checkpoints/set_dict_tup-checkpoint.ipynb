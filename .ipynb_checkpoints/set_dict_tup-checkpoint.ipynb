{
 "cells": [
  {
   "cell_type": "markdown",
   "id": "c594e9d0",
   "metadata": {},
   "source": [
    "# SETS"
   ]
  },
  {
   "cell_type": "code",
   "execution_count": 17,
   "id": "85c6dadd",
   "metadata": {},
   "outputs": [],
   "source": [
    "set_1={'brijesh','shukla'}"
   ]
  },
  {
   "cell_type": "code",
   "execution_count": 18,
   "id": "0813aa8b",
   "metadata": {},
   "outputs": [
    {
     "data": {
      "text/plain": [
       "set"
      ]
     },
     "execution_count": 18,
     "metadata": {},
     "output_type": "execute_result"
    }
   ],
   "source": [
    "type(set_1)"
   ]
  },
  {
   "cell_type": "code",
   "execution_count": 19,
   "id": "7c90d511",
   "metadata": {},
   "outputs": [],
   "source": [
    "set_2={1,2,3,3,2}"
   ]
  },
  {
   "cell_type": "code",
   "execution_count": 20,
   "id": "1744b4c6",
   "metadata": {},
   "outputs": [
    {
     "data": {
      "text/plain": [
       "{1, 2, 3}"
      ]
     },
     "execution_count": 20,
     "metadata": {},
     "output_type": "execute_result"
    }
   ],
   "source": [
    "set_2 "
   ]
  },
  {
   "cell_type": "code",
   "execution_count": 21,
   "id": "0019154f",
   "metadata": {},
   "outputs": [],
   "source": [
    "set_2.add(5)"
   ]
  },
  {
   "cell_type": "code",
   "execution_count": 22,
   "id": "f086f3db",
   "metadata": {},
   "outputs": [
    {
     "data": {
      "text/plain": [
       "{1, 2, 3, 5}"
      ]
     },
     "execution_count": 22,
     "metadata": {},
     "output_type": "execute_result"
    }
   ],
   "source": [
    "set_2"
   ]
  },
  {
   "cell_type": "code",
   "execution_count": 23,
   "id": "a2609061",
   "metadata": {},
   "outputs": [],
   "source": [
    "s1={1,2,3,4}\n",
    "s2={1,2,3,4,5}"
   ]
  },
  {
   "cell_type": "code",
   "execution_count": 24,
   "id": "2211884d",
   "metadata": {},
   "outputs": [
    {
     "data": {
      "text/plain": [
       "{5}"
      ]
     },
     "execution_count": 24,
     "metadata": {},
     "output_type": "execute_result"
    }
   ],
   "source": [
    "s2.difference(s1)"
   ]
  },
  {
   "cell_type": "code",
   "execution_count": 25,
   "id": "5fcca1bc",
   "metadata": {},
   "outputs": [],
   "source": [
    "# s2.difference_update(s1)"
   ]
  },
  {
   "cell_type": "code",
   "execution_count": 26,
   "id": "bab89243",
   "metadata": {},
   "outputs": [
    {
     "data": {
      "text/plain": [
       "{1, 2, 3, 4, 5}"
      ]
     },
     "execution_count": 26,
     "metadata": {},
     "output_type": "execute_result"
    }
   ],
   "source": [
    "s2"
   ]
  },
  {
   "cell_type": "code",
   "execution_count": 27,
   "id": "4f198535",
   "metadata": {},
   "outputs": [
    {
     "data": {
      "text/plain": [
       "{1, 2, 3, 4}"
      ]
     },
     "execution_count": 27,
     "metadata": {},
     "output_type": "execute_result"
    }
   ],
   "source": [
    "s1"
   ]
  },
  {
   "cell_type": "code",
   "execution_count": 28,
   "id": "f8ae39c0",
   "metadata": {},
   "outputs": [
    {
     "data": {
      "text/plain": [
       "{1, 2, 3, 4}"
      ]
     },
     "execution_count": 28,
     "metadata": {},
     "output_type": "execute_result"
    }
   ],
   "source": [
    "s1"
   ]
  },
  {
   "cell_type": "code",
   "execution_count": 29,
   "id": "54454042",
   "metadata": {},
   "outputs": [
    {
     "data": {
      "text/plain": [
       "{1, 2, 3, 4}"
      ]
     },
     "execution_count": 29,
     "metadata": {},
     "output_type": "execute_result"
    }
   ],
   "source": [
    "s2.intersection(s1)"
   ]
  },
  {
   "cell_type": "code",
   "execution_count": 30,
   "id": "266b5b66",
   "metadata": {},
   "outputs": [
    {
     "data": {
      "text/plain": [
       "{1, 2, 3, 4, 5}"
      ]
     },
     "execution_count": 30,
     "metadata": {},
     "output_type": "execute_result"
    }
   ],
   "source": [
    "s2"
   ]
  },
  {
   "cell_type": "markdown",
   "id": "2b254ae4",
   "metadata": {},
   "source": [
    "# Dict"
   ]
  },
  {
   "cell_type": "code",
   "execution_count": 31,
   "id": "19393715",
   "metadata": {},
   "outputs": [],
   "source": [
    "d1={'a':'1','b':'2'}"
   ]
  },
  {
   "cell_type": "code",
   "execution_count": 32,
   "id": "c9c40b8e",
   "metadata": {},
   "outputs": [
    {
     "data": {
      "text/plain": [
       "{'a': '1', 'b': '2'}"
      ]
     },
     "execution_count": 32,
     "metadata": {},
     "output_type": "execute_result"
    }
   ],
   "source": [
    "d1"
   ]
  },
  {
   "cell_type": "code",
   "execution_count": 33,
   "id": "5a0d240f",
   "metadata": {},
   "outputs": [
    {
     "name": "stdout",
     "output_type": "stream",
     "text": [
      "a\n",
      "b\n"
     ]
    }
   ],
   "source": [
    "for x in d1:\n",
    "    print(x)"
   ]
  },
  {
   "cell_type": "code",
   "execution_count": 35,
   "id": "9000f900",
   "metadata": {},
   "outputs": [
    {
     "name": "stdout",
     "output_type": "stream",
     "text": [
      "1\n",
      "2\n"
     ]
    }
   ],
   "source": [
    "for x in d1.values():\n",
    "    print(x)"
   ]
  },
  {
   "cell_type": "code",
   "execution_count": 36,
   "id": "1e583f86",
   "metadata": {},
   "outputs": [
    {
     "name": "stdout",
     "output_type": "stream",
     "text": [
      "('a', '1')\n",
      "('b', '2')\n"
     ]
    }
   ],
   "source": [
    "for x in d1.items():\n",
    "    print(x)"
   ]
  },
  {
   "cell_type": "code",
   "execution_count": 37,
   "id": "1d328373",
   "metadata": {},
   "outputs": [],
   "source": [
    "d1['c']='3'"
   ]
  },
  {
   "cell_type": "code",
   "execution_count": 38,
   "id": "ff3d7298",
   "metadata": {},
   "outputs": [
    {
     "data": {
      "text/plain": [
       "{'a': '1', 'b': '2', 'c': '3'}"
      ]
     },
     "execution_count": 38,
     "metadata": {},
     "output_type": "execute_result"
    }
   ],
   "source": [
    "d1"
   ]
  },
  {
   "cell_type": "code",
   "execution_count": 39,
   "id": "5b61d0e1",
   "metadata": {},
   "outputs": [],
   "source": [
    "# nested dict\n",
    "\n",
    "car1={'abc':'1'}\n",
    "car2={'abc':'2'}\n",
    "car3={'abc':'3'}\n",
    "\n",
    "car_dict={'car_1':car1,'car_2':car2,'car_3':car3}"
   ]
  },
  {
   "cell_type": "code",
   "execution_count": 40,
   "id": "f2f7efd5",
   "metadata": {},
   "outputs": [
    {
     "name": "stdout",
     "output_type": "stream",
     "text": [
      "{'abc': '1'}\n"
     ]
    }
   ],
   "source": [
    "print(car_dict['car_1'])"
   ]
  },
  {
   "cell_type": "markdown",
   "id": "8a88b953",
   "metadata": {},
   "source": [
    "# tup"
   ]
  },
  {
   "cell_type": "code",
   "execution_count": 41,
   "id": "042b4769",
   "metadata": {},
   "outputs": [
    {
     "data": {
      "text/plain": [
       "tuple"
      ]
     },
     "execution_count": 41,
     "metadata": {},
     "output_type": "execute_result"
    }
   ],
   "source": [
    "t1=(1,2,3)\n",
    "type(t1)"
   ]
  },
  {
   "cell_type": "code",
   "execution_count": null,
   "id": "f3edb105",
   "metadata": {},
   "outputs": [],
   "source": []
  }
 ],
 "metadata": {
  "kernelspec": {
   "display_name": "Python 3 (ipykernel)",
   "language": "python",
   "name": "python3"
  },
  "language_info": {
   "codemirror_mode": {
    "name": "ipython",
    "version": 3
   },
   "file_extension": ".py",
   "mimetype": "text/x-python",
   "name": "python",
   "nbconvert_exporter": "python",
   "pygments_lexer": "ipython3",
   "version": "3.9.7"
  }
 },
 "nbformat": 4,
 "nbformat_minor": 5
}
