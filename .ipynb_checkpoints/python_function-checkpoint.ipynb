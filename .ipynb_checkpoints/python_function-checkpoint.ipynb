{
 "cells": [
  {
   "cell_type": "code",
   "execution_count": 1,
   "id": "7b25f71a",
   "metadata": {},
   "outputs": [
    {
     "name": "stdout",
     "output_type": "stream",
     "text": [
      "its odd\n"
     ]
    }
   ],
   "source": [
    "num=55\n",
    "if num%2==0:\n",
    "    print('its even')\n",
    "else:\n",
    "    print('its odd')"
   ]
  },
  {
   "cell_type": "code",
   "execution_count": 5,
   "id": "f0547ba3",
   "metadata": {},
   "outputs": [
    {
     "name": "stdout",
     "output_type": "stream",
     "text": [
      "its even\n"
     ]
    }
   ],
   "source": [
    "def brij(num):\n",
    "    if num%2==0:\n",
    "        print('its even')\n",
    "    else:\n",
    "        print('its odd')\n",
    "brij(88)"
   ]
  },
  {
   "cell_type": "code",
   "execution_count": 9,
   "id": "cd382342",
   "metadata": {},
   "outputs": [],
   "source": [
    "def prapti():\n",
    "    print('hello')\n"
   ]
  },
  {
   "cell_type": "code",
   "execution_count": 10,
   "id": "b803acbf",
   "metadata": {},
   "outputs": [
    {
     "name": "stdout",
     "output_type": "stream",
     "text": [
      "hello\n"
     ]
    }
   ],
   "source": [
    "prapti()"
   ]
  },
  {
   "cell_type": "code",
   "execution_count": 11,
   "id": "3eb54787",
   "metadata": {},
   "outputs": [],
   "source": [
    "def add_number(num1,num2):\n",
    "    return num1+num2"
   ]
  },
  {
   "cell_type": "code",
   "execution_count": 12,
   "id": "b8011b78",
   "metadata": {},
   "outputs": [],
   "source": [
    "val=add_number(2,2)"
   ]
  },
  {
   "cell_type": "code",
   "execution_count": 13,
   "id": "8a38ba03",
   "metadata": {},
   "outputs": [
    {
     "data": {
      "text/plain": [
       "4"
      ]
     },
     "execution_count": 13,
     "metadata": {},
     "output_type": "execute_result"
    }
   ],
   "source": [
    "val"
   ]
  }
 ],
 "metadata": {
  "kernelspec": {
   "display_name": "Python 3 (ipykernel)",
   "language": "python",
   "name": "python3"
  },
  "language_info": {
   "codemirror_mode": {
    "name": "ipython",
    "version": 3
   },
   "file_extension": ".py",
   "mimetype": "text/x-python",
   "name": "python",
   "nbconvert_exporter": "python",
   "pygments_lexer": "ipython3",
   "version": "3.9.7"
  }
 },
 "nbformat": 4,
 "nbformat_minor": 5
}
